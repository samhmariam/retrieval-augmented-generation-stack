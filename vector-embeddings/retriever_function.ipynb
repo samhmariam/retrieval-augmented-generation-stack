{
 "cells": [
  {
   "cell_type": "markdown",
   "id": "923dfd44",
   "metadata": {},
   "source": [
    "#### Implementing Retriever Functions in a RAG System"
   ]
  },
  {
   "cell_type": "markdown",
   "id": "335f8ebf",
   "metadata": {},
   "source": [
    "#### 1 - Importing the libraries"
   ]
  },
  {
   "cell_type": "code",
   "execution_count": 2,
   "id": "628bd86c",
   "metadata": {},
   "outputs": [],
   "source": [
    "import joblib\n",
    "import numpy as np\n",
    "import pandas as pd\n",
    "import bm25s\n",
    "import os\n",
    "from sentence_transformers import SentenceTransformer"
   ]
  },
  {
   "cell_type": "markdown",
   "id": "43d4fa52",
   "metadata": {},
   "source": [
    "#### 2 - Loading the Dataset"
   ]
  },
  {
   "cell_type": "code",
   "execution_count": 5,
   "id": "3928cdc6",
   "metadata": {},
   "outputs": [
    {
     "name": "stdout",
     "output_type": "stream",
     "text": [
      "guid                             e3dc5caa18f9a16d7edcc09f8d5c2bb4\n",
      "title           Harvey Weinstein's 2020 rape conviction overtu...\n",
      "description     Victims group describes the New York appeal co...\n",
      "venue                                                         BBC\n",
      "url             https://www.bbc.co.uk/news/world-us-canada-688...\n",
      "published_at                               2024-04-25 18:24:04+00\n",
      "updated_at                          2024-04-26 20:03:00.628113+00\n",
      "Name: 0, dtype: object\n"
     ]
    }
   ],
   "source": [
    "# Load the dataset\n",
    "data_path = 'news_data_dedup.csv'\n",
    "if os.path.exists(data_path):\n",
    "    df = pd.read_csv(data_path)\n",
    "else:\n",
    "    raise FileNotFoundError(f\"The dataset {data_path} does not exist.\")\n",
    "\n",
    "print(df.iloc[0])  # Display the first row of the dataset"
   ]
  },
  {
   "cell_type": "markdown",
   "id": "269a5644",
   "metadata": {},
   "source": [
    "#### 3 - Retrieve Functions"
   ]
  },
  {
   "cell_type": "code",
   "execution_count": 10,
   "id": "3a74b339",
   "metadata": {},
   "outputs": [
    {
     "name": "stdout",
     "output_type": "stream",
     "text": [
      "Corpus size: 870\n",
      "Sample corpus entry: Harvey Weinstein's 2020 rape conviction overturned Victims group describes the New York appeal court...\n",
      "Tokenizing corpus...\n"
     ]
    },
    {
     "data": {
      "application/vnd.jupyter.widget-view+json": {
       "model_id": "635fcaad3e4144199f6e7c917798bd34",
       "version_major": 2,
       "version_minor": 0
      },
      "text/plain": [
       "Split strings:   0%|          | 0/870 [00:00<?, ?it/s]"
      ]
     },
     "metadata": {},
     "output_type": "display_data"
    },
    {
     "name": "stdout",
     "output_type": "stream",
     "text": [
      "Indexing corpus...\n"
     ]
    },
    {
     "data": {
      "application/vnd.jupyter.widget-view+json": {
       "model_id": "ad292f95e85d4b8498767c020e8a36b4",
       "version_major": 2,
       "version_minor": 0
      },
      "text/plain": [
       "BM25S Count Tokens:   0%|          | 0/870 [00:00<?, ?it/s]"
      ]
     },
     "metadata": {},
     "output_type": "display_data"
    },
    {
     "data": {
      "application/vnd.jupyter.widget-view+json": {
       "model_id": "02d92a4ff4a54c47b1a93b2610470203",
       "version_major": 2,
       "version_minor": 0
      },
      "text/plain": [
       "BM25S Compute Scores:   0%|          | 0/870 [00:00<?, ?it/s]"
      ]
     },
     "metadata": {},
     "output_type": "display_data"
    },
    {
     "name": "stdout",
     "output_type": "stream",
     "text": [
      "Query: What are the recent news about GDP?\n"
     ]
    },
    {
     "data": {
      "application/vnd.jupyter.widget-view+json": {
       "model_id": "248107a7967f4fd09f707d697809cfbe",
       "version_major": 2,
       "version_minor": 0
      },
      "text/plain": [
       "Split strings:   0%|          | 0/1 [00:00<?, ?it/s]"
      ]
     },
     "metadata": {},
     "output_type": "display_data"
    },
    {
     "name": "stdout",
     "output_type": "stream",
     "text": [
      "Retrieving results...\n"
     ]
    },
    {
     "data": {
      "application/vnd.jupyter.widget-view+json": {
       "model_id": "f29b7b2784464b579fdbb88fe994d325",
       "version_major": 2,
       "version_minor": 0
      },
      "text/plain": [
       "BM25S Retrieve:   0%|          | 0/1 [00:00<?, ?it/s]"
      ]
     },
     "metadata": {},
     "output_type": "display_data"
    },
    {
     "name": "stdout",
     "output_type": "stream",
     "text": [
      "Results shape: (1, 3)\n",
      "Scores shape: (1, 3)\n",
      "\n",
      "Top 3 results:\n",
      "1. Score: 5.0626\n",
      "   Text: GDP and the Dow Are Up. But What About American Well-Being? The standard ways of measuring economic growth don’t capture what life is like for real people. A new metric offers a better alternative, es...\n",
      "\n",
      "2. Score: 4.8727\n",
      "   Text: What the GDP Report Says About Inflation: A Hot First Quarter Thursday’s gross domestic product report suggests that a widely watched inflation reading due Friday could be worse than expected....\n",
      "\n",
      "3. Score: 3.8447\n",
      "   Text: A GDP Warning as Signs of Stagflation Appear Slower growth and persistent inflation explain why voters feel glum about the economy....\n",
      "\n"
     ]
    }
   ],
   "source": [
    "# Use for corpus title appended with description\n",
    "corpus = df['title'].astype(str).fillna('') + ' ' + df['description'].astype(str).fillna('')\n",
    "\n",
    "# Clean the corpus to remove any problematic entries\n",
    "corpus = corpus.apply(lambda x: str(x).strip() if pd.notna(x) else '')\n",
    "corpus = corpus[corpus != ''].reset_index(drop=True)  # Remove empty strings\n",
    "\n",
    "print(f\"Corpus size: {len(corpus)}\")\n",
    "print(f\"Sample corpus entry: {corpus.iloc[0][:100]}...\")\n",
    "\n",
    "# Initialize retriever function (don't pass corpus to constructor)\n",
    "retriever = bm25s.BM25()\n",
    "\n",
    "# Tokenize the corpus\n",
    "print(\"Tokenizing corpus...\")\n",
    "tokenized_corpus = bm25s.tokenize(corpus.tolist())\n",
    "\n",
    "# Index the tokenized corpus\n",
    "print(\"Indexing corpus...\")\n",
    "retriever.index(tokenized_corpus)\n",
    "\n",
    "# Tokenize a sample query\n",
    "query = \"What are the recent news about GDP?\"\n",
    "print(f\"Query: {query}\")\n",
    "tokenized_query = bm25s.tokenize(query)\n",
    "\n",
    "# Retrieve the results and their scores\n",
    "print(\"Retrieving results...\")\n",
    "results, scores = retriever.retrieve(tokenized_query, k=3)\n",
    "\n",
    "# Display the results\n",
    "print(f\"Results shape: {results.shape}\")\n",
    "print(f\"Scores shape: {scores.shape}\")\n",
    "print(\"\\nTop 3 results:\")\n",
    "for i, (result_idx, score) in enumerate(zip(results[0], scores[0])):\n",
    "    print(f\"{i+1}. Score: {score:.4f}\")\n",
    "    print(f\"   Text: {corpus.iloc[result_idx][:200]}...\")\n",
    "    print()\n"
   ]
  },
  {
   "cell_type": "code",
   "execution_count": null,
   "id": "c345db29",
   "metadata": {},
   "outputs": [],
   "source": []
  }
 ],
 "metadata": {
  "kernelspec": {
   "display_name": "retrieval-augmented-generation-stack",
   "language": "python",
   "name": "python3"
  },
  "language_info": {
   "codemirror_mode": {
    "name": "ipython",
    "version": 3
   },
   "file_extension": ".py",
   "mimetype": "text/x-python",
   "name": "python",
   "nbconvert_exporter": "python",
   "pygments_lexer": "ipython3",
   "version": "3.11.13"
  }
 },
 "nbformat": 4,
 "nbformat_minor": 5
}
